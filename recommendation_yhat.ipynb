{
  "cells": [
    {
      "cell_type": "markdown",
      "source": [
        "# [Trending Products Recommendation Engine](http://blog.yhat.com/posts/trending-products-recommender-engine.html)"
      ],
      "metadata": {}
    },
    {
      "cell_type": "code",
      "source": [
        "import pandas as pd\n",
        "import numpy as np\n",
        "import operator\n",
        "\n",
        "SMOOTHING_WINDOW_FUNCTION = np.hamming\n",
        "SMOOTHING_WINDOW_SIZE = 7\n",
        "\n",
        "def train():\n",
        "    df = pd.read_csv('sample-cart-add-data.csv')\n",
        "    df.sort_values(by=['id', 'age'], inplace=True)\n",
        "    trends = pd.pivot_table(df, values='count', index=['id', 'age'])\n",
        "\n",
        "    trend_snap = {}\n",
        "\n",
        "    for i in np.unique(df['id']):\n",
        "        trend = np.array(trends[i])\n",
        "        smoothed = smooth(trend, SMOOTHING_WINDOW_SIZE, SMOOTHING_WINDOW_FUNCTION)\n",
        "        nsmoothed = standardize(smoothed)\n",
        "        slopes = nsmoothed[1:] - nsmoothed[:-1]\n",
        "        # I blend in the previous slope as well, to stabalize things a bit and\n",
        "        # give a boost to things that have been trending for more than 1 day\n",
        "        if len(slopes) > 1:\n",
        "            trend_snap[i] = slopes[-1] + slopes[-2] * 0.5\n",
        "    return sorted(trend_snap.items(), key=operator.itemgetter(1), reverse=True)\n",
        "\n",
        "def smooth(series, window_size, window):\n",
        "    ext = np.r_[2 * series[0] - series[window_size-1::-1],\n",
        "                series,\n",
        "                2 * series[-1] - series[-1:-window_size:-1]]\n",
        "    weights = window(window_size)\n",
        "    smoothed = np.convolve(weights / weights.sum(), ext, mode='same')\n",
        "    return smoothed[window_size:-window_size+1]\n",
        "\n\n",
        "def standardize(series):\n",
        "    iqr = np.percentile(series, 75) - np.percentile(series, 25)\n",
        "    return (series - np.median(series)) / iqr\n",
        "\n\n",
        "trending = train()\n",
        "print \"Top 5 trending products:\"\n",
        "for i, s in trending[:5]:\n",
        "    print \"Product %s (score: %2.2f)\" % (i, s)"
      ],
      "outputs": [],
      "execution_count": null,
      "metadata": {
        "collapsed": false,
        "outputHidden": false,
        "inputHidden": false
      }
    }
  ],
  "metadata": {
    "kernelspec": {
      "name": "python2",
      "language": "python",
      "display_name": "Python 2"
    },
    "kernel_info": {
      "name": "python2"
    },
    "language_info": {
      "mimetype": "text/x-python",
      "nbconvert_exporter": "python",
      "name": "python",
      "pygments_lexer": "ipython2",
      "version": "2.7.12",
      "file_extension": ".py",
      "codemirror_mode": {
        "version": 2,
        "name": "ipython"
      }
    }
  },
  "nbformat": 4,
  "nbformat_minor": 4
}